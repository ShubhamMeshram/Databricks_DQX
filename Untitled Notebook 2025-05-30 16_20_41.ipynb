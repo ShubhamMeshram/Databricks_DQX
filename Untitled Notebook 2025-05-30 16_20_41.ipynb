{
 "cells": [
  {
   "cell_type": "code",
   "execution_count": 0,
   "metadata": {
    "application/vnd.databricks.v1+cell": {
     "cellMetadata": {
      "byteLimit": 2048000,
      "rowLimit": 10000
     },
     "inputWidgets": {},
     "nuid": "804528ed-7716-4163-8c68-3d0096627cba",
     "showTitle": false,
     "tableResultSettingsMap": {},
     "title": ""
    }
   },
   "outputs": [],
   "source": [
    "# Databricks notebook source\n",
    "# MAGIC %md\n",
    "# MAGIC # 🧪 Databricks DQX: Data Quality Profiling\n",
    "# MAGIC \n",
    "# MAGIC This notebook:\n",
    "# MAGIC - Loads the `departuredelays.csv` dataset\n",
    "# MAGIC - Runs DQX profiling on the dataset\n",
    "# MAGIC - Displays DQX profile properties\n",
    "# MAGIC - Generates a DQX quality dashboard\n",
    "\n",
    "# COMMAND ----------\n",
    "\n",
    "# Load the dataset\n",
    "df = spark.read.option(\"header\", \"true\").option(\"inferSchema\", \"true\") \\\n",
    "    .csv(\"dbfs:/databricks-datasets/flights/departuredelays.csv\")\n",
    "\n",
    "df.display()\n",
    "\n",
    "# COMMAND ----------\n",
    "\n",
    "# Import DQX\n",
    "from dqx import DQXProfiler\n",
    "\n",
    "# COMMAND ----------\n",
    "\n",
    "# Run DQX profiling on the dataset\n",
    "profiler = DQXProfiler(df)\n",
    "profile = profiler.compute()\n",
    "\n",
    "# COMMAND ----------\n",
    "\n",
    "# Display overall data quality metrics\n",
    "display(profile.overview())\n",
    "\n",
    "# COMMAND ----------\n",
    "\n",
    "# Display individual column metrics\n",
    "display(profile.columns())\n",
    "\n",
    "# COMMAND ----------\n",
    "\n",
    "# Show schema-specific metrics\n",
    "display(profile.schema())\n",
    "\n",
    "# COMMAND ----------\n",
    "\n",
    "# Show value distribution insights\n",
    "display(profile.distribution())\n",
    "\n",
    "# COMMAND ----------\n",
    "\n",
    "# MAGIC %md\n",
    "# MAGIC ## 📊 DQX Dashboard\n",
    "# MAGIC \n",
    "# MAGIC You can generate a full dashboard UI for this DQX profile using the `display` function:\n",
    "\n",
    "# COMMAND ----------\n",
    "\n",
    "# Display the full dashboard\n",
    "display(profile.dashboard())\n",
    "\n",
    "# COMMAND ----------\n",
    "\n",
    "# MAGIC %md\n",
    "# MAGIC ## ✅ Summary\n",
    "# MAGIC - Data loaded from: `dbfs:/databricks-datasets/flights/departuredelays.csv`\n",
    "# MAGIC - Columns profiled: `date`, `delay`, `distance`, `origin`, `destination`\n",
    "# MAGIC - Used DQX to compute data quality metrics\n",
    "# MAGIC - Displayed comprehensive dashboard for further exploration\n"
   ]
  }
 ],
 "metadata": {
  "application/vnd.databricks.v1+notebook": {
   "computePreferences": null,
   "dashboards": [],
   "environmentMetadata": {
    "base_environment": "",
    "environment_version": "2"
   },
   "inputWidgetPreferences": null,
   "language": "python",
   "notebookMetadata": {
    "pythonIndentUnit": 4
   },
   "notebookName": "Untitled Notebook 2025-05-30 16_20_41",
   "widgets": {}
  },
  "language_info": {
   "name": "python"
  }
 },
 "nbformat": 4,
 "nbformat_minor": 0
}
